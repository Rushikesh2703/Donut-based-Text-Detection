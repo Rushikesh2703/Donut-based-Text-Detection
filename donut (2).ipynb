{
 "cells": [
  {
   "cell_type": "code",
   "execution_count": 36,
   "id": "318faa3e-80f5-40bf-aeb8-cbb5b9eac8b6",
   "metadata": {},
   "outputs": [
    {
     "data": {
      "application/vnd.jupyter.widget-view+json": {
       "model_id": "04c57fbe1a594284b1a2c068a2caaa41",
       "version_major": 2,
       "version_minor": 0
      },
      "text/plain": [
       "config.json:   0%|          | 0.00/4.74k [00:00<?, ?B/s]"
      ]
     },
     "metadata": {},
     "output_type": "display_data"
    },
    {
     "name": "stderr",
     "output_type": "stream",
     "text": [
      "C:\\Users\\rushi\\AppData\\Local\\Programs\\Python\\Python312\\Lib\\site-packages\\huggingface_hub\\file_download.py:140: UserWarning: `huggingface_hub` cache-system uses symlinks by default to efficiently store duplicated files but your machine does not support them in C:\\Users\\rushi\\.cache\\huggingface\\hub\\models--naver-clova-ix--donut-base-finetuned-cord-v2. Caching files will still work but in a degraded version that might require more space on your disk. This warning can be disabled by setting the `HF_HUB_DISABLE_SYMLINKS_WARNING` environment variable. For more details, see https://huggingface.co/docs/huggingface_hub/how-to-cache#limitations.\n",
      "To support symlinks on Windows, you either need to activate Developer Mode or to run Python as an administrator. In order to activate developer mode, see this article: https://docs.microsoft.com/en-us/windows/apps/get-started/enable-your-device-for-development\n",
      "  warnings.warn(message)\n"
     ]
    },
    {
     "data": {
      "application/vnd.jupyter.widget-view+json": {
       "model_id": "2862462087e342a983cc04a0cd0bb328",
       "version_major": 2,
       "version_minor": 0
      },
      "text/plain": [
       "pytorch_model.bin:   0%|          | 0.00/806M [00:00<?, ?B/s]"
      ]
     },
     "metadata": {},
     "output_type": "display_data"
    },
    {
     "data": {
      "application/vnd.jupyter.widget-view+json": {
       "model_id": "f791aa179df642bd8a5fd9de47a81551",
       "version_major": 2,
       "version_minor": 0
      },
      "text/plain": [
       "model.safetensors:   0%|          | 0.00/806M [00:00<?, ?B/s]"
      ]
     },
     "metadata": {},
     "output_type": "display_data"
    },
    {
     "name": "stderr",
     "output_type": "stream",
     "text": [
      "Config of the encoder: <class 'transformers.models.donut.modeling_donut_swin.DonutSwinModel'> is overwritten by shared encoder config: DonutSwinConfig {\n",
      "  \"attention_probs_dropout_prob\": 0.0,\n",
      "  \"depths\": [\n",
      "    2,\n",
      "    2,\n",
      "    14,\n",
      "    2\n",
      "  ],\n",
      "  \"drop_path_rate\": 0.1,\n",
      "  \"embed_dim\": 128,\n",
      "  \"hidden_act\": \"gelu\",\n",
      "  \"hidden_dropout_prob\": 0.0,\n",
      "  \"hidden_size\": 1024,\n",
      "  \"image_size\": [\n",
      "    1280,\n",
      "    960\n",
      "  ],\n",
      "  \"initializer_range\": 0.02,\n",
      "  \"layer_norm_eps\": 1e-05,\n",
      "  \"mlp_ratio\": 4.0,\n",
      "  \"model_type\": \"donut-swin\",\n",
      "  \"num_channels\": 3,\n",
      "  \"num_heads\": [\n",
      "    4,\n",
      "    8,\n",
      "    16,\n",
      "    32\n",
      "  ],\n",
      "  \"num_layers\": 4,\n",
      "  \"patch_size\": 4,\n",
      "  \"path_norm\": true,\n",
      "  \"qkv_bias\": true,\n",
      "  \"transformers_version\": \"4.48.0\",\n",
      "  \"use_absolute_embeddings\": false,\n",
      "  \"window_size\": 10\n",
      "}\n",
      "\n",
      "Config of the decoder: <class 'transformers.models.mbart.modeling_mbart.MBartForCausalLM'> is overwritten by shared decoder config: MBartConfig {\n",
      "  \"activation_dropout\": 0.0,\n",
      "  \"activation_function\": \"gelu\",\n",
      "  \"add_cross_attention\": true,\n",
      "  \"add_final_layer_norm\": true,\n",
      "  \"attention_dropout\": 0.0,\n",
      "  \"bos_token_id\": 0,\n",
      "  \"classifier_dropout\": 0.0,\n",
      "  \"d_model\": 1024,\n",
      "  \"decoder_attention_heads\": 16,\n",
      "  \"decoder_ffn_dim\": 4096,\n",
      "  \"decoder_layerdrop\": 0.0,\n",
      "  \"decoder_layers\": 4,\n",
      "  \"dropout\": 0.1,\n",
      "  \"encoder_attention_heads\": 16,\n",
      "  \"encoder_ffn_dim\": 4096,\n",
      "  \"encoder_layerdrop\": 0.0,\n",
      "  \"encoder_layers\": 12,\n",
      "  \"eos_token_id\": 2,\n",
      "  \"forced_eos_token_id\": 2,\n",
      "  \"init_std\": 0.02,\n",
      "  \"is_decoder\": true,\n",
      "  \"is_encoder_decoder\": false,\n",
      "  \"max_position_embeddings\": 768,\n",
      "  \"model_type\": \"mbart\",\n",
      "  \"num_hidden_layers\": 12,\n",
      "  \"pad_token_id\": 1,\n",
      "  \"scale_embedding\": true,\n",
      "  \"transformers_version\": \"4.48.0\",\n",
      "  \"use_cache\": true,\n",
      "  \"vocab_size\": 57580\n",
      "}\n",
      "\n"
     ]
    },
    {
     "data": {
      "application/vnd.jupyter.widget-view+json": {
       "model_id": "7f57c0a6deca4adc9eb2737a001102ce",
       "version_major": 2,
       "version_minor": 0
      },
      "text/plain": [
       "preprocessor_config.json:   0%|          | 0.00/362 [00:00<?, ?B/s]"
      ]
     },
     "metadata": {},
     "output_type": "display_data"
    },
    {
     "data": {
      "application/vnd.jupyter.widget-view+json": {
       "model_id": "39d270cdfb914bda85810e0363fbd24f",
       "version_major": 2,
       "version_minor": 0
      },
      "text/plain": [
       "tokenizer_config.json:   0%|          | 0.00/536 [00:00<?, ?B/s]"
      ]
     },
     "metadata": {},
     "output_type": "display_data"
    },
    {
     "data": {
      "application/vnd.jupyter.widget-view+json": {
       "model_id": "108d416af81e4a27869db96a4b7fb2b8",
       "version_major": 2,
       "version_minor": 0
      },
      "text/plain": [
       "sentencepiece.bpe.model:   0%|          | 0.00/1.30M [00:00<?, ?B/s]"
      ]
     },
     "metadata": {},
     "output_type": "display_data"
    },
    {
     "data": {
      "application/vnd.jupyter.widget-view+json": {
       "model_id": "b6cbf1d9eacd4a2eb42cf702a775fc99",
       "version_major": 2,
       "version_minor": 0
      },
      "text/plain": [
       "tokenizer.json:   0%|          | 0.00/4.02M [00:00<?, ?B/s]"
      ]
     },
     "metadata": {},
     "output_type": "display_data"
    },
    {
     "data": {
      "application/vnd.jupyter.widget-view+json": {
       "model_id": "d6963499b84147839cdc8d7db4375f72",
       "version_major": 2,
       "version_minor": 0
      },
      "text/plain": [
       "added_tokens.json:   0%|          | 0.00/1.52k [00:00<?, ?B/s]"
      ]
     },
     "metadata": {},
     "output_type": "display_data"
    },
    {
     "data": {
      "application/vnd.jupyter.widget-view+json": {
       "model_id": "5fd0c205751441ad88223a34d19b1a6c",
       "version_major": 2,
       "version_minor": 0
      },
      "text/plain": [
       "special_tokens_map.json:   0%|          | 0.00/335 [00:00<?, ?B/s]"
      ]
     },
     "metadata": {},
     "output_type": "display_data"
    }
   ],
   "source": [
    "# Loading the pretrained model and processor for Information Extraction task\n",
    "ie_model_ckpt = \"naver-clova-ix/donut-base-finetuned-cord-v2\"\n",
    "\n",
    "ie_model = VisionEncoderDecoderModel.from_pretrained(ie_model_ckpt)\n",
    "ie_processor = DonutProcessor.from_pretrained(ie_model_ckpt)  # restart the session if it is causing any error"
   ]
  },
  {
   "cell_type": "code",
   "execution_count": 37,
   "id": "c672348c-7716-4ed4-b533-271dab568128",
   "metadata": {},
   "outputs": [
    {
     "data": {
      "application/vnd.jupyter.widget-view+json": {
       "model_id": "d37c3ce2a1444b61bd4b06d7e2536716",
       "version_major": 2,
       "version_minor": 0
      },
      "text/plain": [
       "dataset_infos.json:   0%|          | 0.00/695 [00:00<?, ?B/s]"
      ]
     },
     "metadata": {},
     "output_type": "display_data"
    },
    {
     "name": "stderr",
     "output_type": "stream",
     "text": [
      "C:\\Users\\rushi\\AppData\\Local\\Programs\\Python\\Python312\\Lib\\site-packages\\huggingface_hub\\file_download.py:140: UserWarning: `huggingface_hub` cache-system uses symlinks by default to efficiently store duplicated files but your machine does not support them in C:\\Users\\rushi\\.cache\\huggingface\\hub\\datasets--hf-internal-testing--example-documents. Caching files will still work but in a degraded version that might require more space on your disk. This warning can be disabled by setting the `HF_HUB_DISABLE_SYMLINKS_WARNING` environment variable. For more details, see https://huggingface.co/docs/huggingface_hub/how-to-cache#limitations.\n",
      "To support symlinks on Windows, you either need to activate Developer Mode or to run Python as an administrator. In order to activate developer mode, see this article: https://docs.microsoft.com/en-us/windows/apps/get-started/enable-your-device-for-development\n",
      "  warnings.warn(message)\n"
     ]
    },
    {
     "data": {
      "application/vnd.jupyter.widget-view+json": {
       "model_id": "9d12ec16d55845c99a2654973d2f115c",
       "version_major": 2,
       "version_minor": 0
      },
      "text/plain": [
       "(…)-00000-of-00001-cca0db7e388ce4bc.parquet:   0%|          | 0.00/2.86M [00:00<?, ?B/s]"
      ]
     },
     "metadata": {},
     "output_type": "display_data"
    },
    {
     "data": {
      "application/vnd.jupyter.widget-view+json": {
       "model_id": "f376db3b8b4d4c92a665394161c5f9ef",
       "version_major": 2,
       "version_minor": 0
      },
      "text/plain": [
       "Generating test split:   0%|          | 0/3 [00:00<?, ? examples/s]"
      ]
     },
     "metadata": {},
     "output_type": "display_data"
    },
    {
     "data": {
      "text/plain": [
       "Dataset({\n",
       "    features: ['image'],\n",
       "    num_rows: 3\n",
       "})"
      ]
     },
     "execution_count": 37,
     "metadata": {},
     "output_type": "execute_result"
    }
   ],
   "source": [
    "ie_dataset = load_dataset(\"hf-internal-testing/example-documents\", split='test')\n",
    "ie_dataset"
   ]
  },
  {
   "cell_type": "code",
   "execution_count": 56,
   "id": "0c44e0e2-a723-476c-bedb-03ace4e0af6d",
   "metadata": {},
   "outputs": [],
   "source": [
    "from datasets import Dataset, Image\n",
    "\n",
    "# List all image file paths\n",
    "image_paths = [\"Internship_Indoco.jpg\"]\n",
    "\n",
    "# Create a dataset from the image paths\n",
    "dataset = Dataset.from_dict({\"image\": image_paths}).cast_column(\"image\", Image())\n",
    "\n",
    "# Access an image\n",
    "ie_image = dataset[0]['image']\n",
    "ie_image.show()\n"
   ]
  },
  {
   "cell_type": "code",
   "execution_count": 57,
   "id": "465286e7-948b-44d3-9ec0-e16cc9e1c504",
   "metadata": {},
   "outputs": [
    {
     "data": {
      "text/plain": [
       "torch.Size([1, 3, 1280, 960])"
      ]
     },
     "execution_count": 57,
     "metadata": {},
     "output_type": "execute_result"
    }
   ],
   "source": [
    "# Donut processor require RGB image, so convert it before feeding.\n",
    "ie_pixel_values = ie_processor(ie_image.convert(\"RGB\"), return_tensors=\"pt\").pixel_values\n",
    "ie_pixel_values.size()"
   ]
  },
  {
   "cell_type": "code",
   "execution_count": 58,
   "id": "882ab884-d7fb-41bc-bc7c-5c6408a33688",
   "metadata": {},
   "outputs": [
    {
     "data": {
      "text/plain": [
       "tensor([[57579]])"
      ]
     },
     "execution_count": 58,
     "metadata": {},
     "output_type": "execute_result"
    }
   ],
   "source": [
    "# Prepare decoder inputs\n",
    "ie_task_prompt = \"<s_cord-v2>\"\n",
    "ie_decoder_input_ids = ie_processor.tokenizer(ie_task_prompt, add_special_tokens=False, return_tensors=\"pt\").input_ids\n",
    "ie_decoder_input_ids"
   ]
  },
  {
   "cell_type": "code",
   "execution_count": 59,
   "id": "6ef0f802-1356-4f1c-b9d5-8e6852054c40",
   "metadata": {},
   "outputs": [
    {
     "data": {
      "text/plain": [
       "['<s_cord-v2>']"
      ]
     },
     "execution_count": 59,
     "metadata": {},
     "output_type": "execute_result"
    }
   ],
   "source": [
    "ie_processor.tokenizer.convert_ids_to_tokens(ie_decoder_input_ids[0])"
   ]
  },
  {
   "cell_type": "code",
   "execution_count": 60,
   "id": "af013125-9267-41ed-a360-8b39893fc0e3",
   "metadata": {},
   "outputs": [
    {
     "name": "stdout",
     "output_type": "stream",
     "text": [
      "{'menu': [{'nm': 'INDOCO REMEDIES LIMITED', 'unitprice': '196', 'cnt': {'unitprice': '196'}, 'price': '(91-240) 255 6297', 'sub': {'nm': 'B-20. M.I. D. C. Walu. Aurangabad 431', 'unitprice': '4047', 'cnt': '.', 'price': '.'}}, {'nm': 'undergone Industrial Training', 'unitprice': '09/06/2022', 'cnt': 'to', 'price': '29/06/2022', 'sub': {'nm': 'Formulation unit at B-20, M.I.D.C., WaluJ Aurangabad.'}}, {'nm': 'Nuleh Natalat'}, {'nm': 'Human Resouces'}, {'nm': 'IndocoRemedies Ltd.'}, {'nm': 'B-20, Walu, Aurangabad'}], 'sub_total': {'subtotal_price': '29th June 2022'}, 'total': {'total_price': '99.0', 'creditcardprice': '190MH1947PLC005913'}}\n"
     ]
    }
   ],
   "source": [
    "# Information Extraction using pretrianed model\n",
    "ie_outputs = ie_model.generate(\n",
    "    ie_pixel_values.to(device),\n",
    "    decoder_input_ids=ie_decoder_input_ids.to(device),\n",
    "    max_length=ie_model.decoder.config.max_position_embeddings,\n",
    "    pad_token_id=ie_processor.tokenizer.pad_token_id,\n",
    "    eos_token_id=ie_processor.tokenizer.eos_token_id,\n",
    "    use_cache=True,\n",
    "    bad_words_ids=[[ie_processor.tokenizer.unk_token_id]],\n",
    "    return_dict_in_generate=True,\n",
    ")\n",
    "\n",
    "ie_sequence = ie_processor.batch_decode(ie_outputs.sequences)[0]\n",
    "ie_sequence = ie_sequence.replace(ie_processor.tokenizer.eos_token, \"\").replace(ie_processor.tokenizer.pad_token, \"\")\n",
    "ie_sequence = re.sub(r\"<.*?>\", \"\", ie_sequence, count=1).strip()  # remove first task start token\n",
    "print(ie_processor.token2json(ie_sequence))"
   ]
  }
 ],
 "metadata": {
  "kernelspec": {
   "display_name": "Python 3 (ipykernel)",
   "language": "python",
   "name": "python3"
  },
  "language_info": {
   "codemirror_mode": {
    "name": "ipython",
    "version": 3
   },
   "file_extension": ".py",
   "mimetype": "text/x-python",
   "name": "python",
   "nbconvert_exporter": "python",
   "pygments_lexer": "ipython3",
   "version": "3.12.4"
  }
 },
 "nbformat": 4,
 "nbformat_minor": 5
}
